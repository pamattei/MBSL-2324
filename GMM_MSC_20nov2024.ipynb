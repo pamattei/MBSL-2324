{
  "nbformat": 4,
  "nbformat_minor": 0,
  "metadata": {
    "colab": {
      "provenance": []
    },
    "kernelspec": {
      "name": "ir",
      "display_name": "R"
    },
    "language_info": {
      "name": "R"
    }
  },
  "cells": [
    {
      "cell_type": "markdown",
      "source": [
        "#M2 DSAI, GMMs"
      ],
      "metadata": {
        "id": "8iL2gAaD4IlC"
      }
    },
    {
      "cell_type": "code",
      "source": [
        "library(MASS)"
      ],
      "metadata": {
        "id": "KwMmdY0T8Sk8"
      },
      "execution_count": 25,
      "outputs": []
    },
    {
      "cell_type": "markdown",
      "source": [
        "We want to sample from a GMM using the latent variable formulation, for each $i \\in \\{1, \\ldots, n\\}$, we sample:\n",
        "- $k_i \\sim \\text{Bern}( \\pi )$\n",
        "- $x_i \\sim \\mathcal{N}( \\mu_{k_i},\\Sigma_{k_i}) $,\n",
        "\n",
        "where $\\pi \\in (0,1)$, $\\mu_{0},\\mu_{1} \\in \\mathbb{R}^D$, and $\\Sigma_0, \\Sigma_1 \\in \\mathcal{S}_D^{++}$, the set of positive definite matrices."
      ],
      "metadata": {
        "id": "9tQV5zdp4R86"
      }
    },
    {
      "cell_type": "code",
      "source": [
        "n = 100\n",
        "D = 2"
      ],
      "metadata": {
        "id": "jO-b2ytQ5m1S"
      },
      "execution_count": 3,
      "outputs": []
    },
    {
      "cell_type": "code",
      "source": [
        "Pi = 0.7"
      ],
      "metadata": {
        "id": "qNP-V3TL4KS2"
      },
      "execution_count": 2,
      "outputs": []
    },
    {
      "cell_type": "code",
      "source": [
        "mu_0 = c(1,1)\n",
        "mu_1 = c(-1,-1)"
      ],
      "metadata": {
        "id": "_PBWmWTG4LJg"
      },
      "execution_count": 4,
      "outputs": []
    },
    {
      "cell_type": "code",
      "source": [
        "S_0 = rbind(c(1,0.5),c(0.5,1))\n",
        "S_1 = rbind(c(1,0),c(0,1))"
      ],
      "metadata": {
        "id": "7Rg21awe5zsG"
      },
      "execution_count": 13,
      "outputs": []
    },
    {
      "cell_type": "markdown",
      "source": [
        "To sample from a Bernoulli, we can sample from a binomial with $\\texttt{size}=1$, this way:"
      ],
      "metadata": {
        "id": "AwI2YBzJ71N0"
      }
    },
    {
      "cell_type": "code",
      "source": [
        "rbinom(n = 1,size = 1, prob = Pi)"
      ],
      "metadata": {
        "colab": {
          "base_uri": "https://localhost:8080/",
          "height": 34
        },
        "id": "aD02523H6Q62",
        "outputId": "2556f180-d51a-461f-f6a1-41b274952871"
      },
      "execution_count": 23,
      "outputs": [
        {
          "output_type": "display_data",
          "data": {
            "text/html": [
              "0"
            ],
            "text/markdown": "0",
            "text/latex": "0",
            "text/plain": [
              "[1] 0"
            ]
          },
          "metadata": {}
        }
      ]
    },
    {
      "cell_type": "markdown",
      "source": [
        "To sample from a mutivariate Gaussian, we can just use this function from the MASS package:"
      ],
      "metadata": {
        "id": "sR96P3Qu8Xzb"
      }
    },
    {
      "cell_type": "code",
      "source": [
        "mvrnorm(n=1,mu_0,S_0)"
      ],
      "metadata": {
        "colab": {
          "base_uri": "https://localhost:8080/",
          "height": 34
        },
        "id": "x8DtccLF6Rn3",
        "outputId": "068469a7-1d21-4251-ac6a-6b390fee6500"
      },
      "execution_count": 26,
      "outputs": [
        {
          "output_type": "display_data",
          "data": {
            "text/html": [
              "<style>\n",
              ".list-inline {list-style: none; margin:0; padding: 0}\n",
              ".list-inline>li {display: inline-block}\n",
              ".list-inline>li:not(:last-child)::after {content: \"\\00b7\"; padding: 0 .5ex}\n",
              "</style>\n",
              "<ol class=list-inline><li>1.80452345317644</li><li>0.378912896360358</li></ol>\n"
            ],
            "text/markdown": "1. 1.80452345317644\n2. 0.378912896360358\n\n\n",
            "text/latex": "\\begin{enumerate*}\n\\item 1.80452345317644\n\\item 0.378912896360358\n\\end{enumerate*}\n",
            "text/plain": [
              "[1] 1.8045235 0.3789129"
            ]
          },
          "metadata": {}
        }
      ]
    },
    {
      "cell_type": "markdown",
      "source": [
        "Now, we have all the tools we need to sample from the GMM:"
      ],
      "metadata": {
        "id": "gk46W1TV8fU9"
      }
    },
    {
      "cell_type": "code",
      "source": [],
      "metadata": {
        "id": "bE5zlEis6djO"
      },
      "execution_count": null,
      "outputs": []
    }
  ]
}